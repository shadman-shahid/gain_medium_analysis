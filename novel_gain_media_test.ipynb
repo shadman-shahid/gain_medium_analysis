{
 "cells": [
  {
   "cell_type": "code",
   "execution_count": 1,
   "metadata": {},
   "outputs": [],
   "source": [
    "from lumapi import FDTD\n",
    "import matplotlib.pyplot as plt\n",
    "import numpy as np\n",
    "import os\n",
    "from scipy.signal import find_peaks\n",
    "from scipy import constants as cnst\n",
    "from tqdm import tqdm\n",
    "from matplotlib import colormaps\n",
    "import matplotlib as mpl\n",
    "mpl.rcParams['text.usetex']=True\n",
    "mpl.rcParams['mathtext.fontset']='cm'\n",
    "\n",
    "# Set default font family and size\n",
    "# plt.rcParams['font.family'] = 'serif'\n",
    "# plt.rcParams['font.serif'] = 'CMU Serif'\n",
    "plt.rcParams['font.size'] = 15\n",
    "\n",
    "# Set default tick length\n",
    "plt.rcParams['xtick.major.size'] = 7  # Length of major x-ticks\n",
    "plt.rcParams['ytick.major.size'] = 7  # Length of major y-ticks\n",
    "plt.rcParams['xtick.minor.size'] = 4  # Length of minor x-ticks (if used)\n",
    "plt.rcParams['ytick.minor.size'] = 4  # Length of minor y-ticks (if used)\n",
    "\n",
    "# Set default tick length\n",
    "plt.rcParams['xtick.direction'] = 'in'  # Length of major x-ticks\n",
    "plt.rcParams['ytick.direction'] = 'in' # Length of major y-ticks"
   ]
  },
  {
   "cell_type": "code",
   "execution_count": null,
   "metadata": {},
   "outputs": [],
   "source": []
  }
 ],
 "metadata": {
  "kernelspec": {
   "display_name": "photonics",
   "language": "python",
   "name": "python3"
  },
  "language_info": {
   "codemirror_mode": {
    "name": "ipython",
    "version": 3
   },
   "file_extension": ".py",
   "mimetype": "text/x-python",
   "name": "python",
   "nbconvert_exporter": "python",
   "pygments_lexer": "ipython3",
   "version": "3.7.16"
  }
 },
 "nbformat": 4,
 "nbformat_minor": 2
}
